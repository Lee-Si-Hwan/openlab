{
 "cells": [
  {
   "cell_type": "code",
   "execution_count": null,
   "metadata": {},
   "outputs": [
    {
     "ename": "",
     "evalue": "",
     "output_type": "error",
     "traceback": [
      "\u001b[1;31mFailed to start the Kernel. \n",
      "C:\\Users\\도메성\\AppData\\Roaming\\Python\\Python39\\site-packages\\traitlets\\traitlets.py:2392: FutureWarning: Supporting extra quotes around strings is deprecated in traitlets 5.0. You can use 'hmac-sha256' instead of '\"hmac-sha256\"' if you require traitlets >=5.\r\n",
      "  warn(\r\n",
      "C:\\Users\\도메성\\AppData\\Roaming\\Python\\Python39\\site-packages\\traitlets\\traitlets.py:2346: FutureWarning: Supporting extra quotes around Bytes is deprecated in traitlets 5.0. Use '1c2cb85b-d916-4724-a7aa-9b5d8c1fe6b3' instead of 'b\"1c2cb85b-d916-4724-a7aa-9b5d8c1fe6b3\"'.\r\n",
      "  warn(\r\n",
      "Bad file descriptor (C:\\projects\\libzmq\\src\\epoll.cpp:100). \n",
      "View Jupyter <a href='command:jupyter.viewOutput'>log</a> for further details."
     ]
    }
   ],
   "source": [
    "print(10)"
   ]
  },
  {
   "cell_type": "code",
   "execution_count": null,
   "metadata": {},
   "outputs": [],
   "source": []
  }
 ],
 "metadata": {
  "kernelspec": {
   "display_name": "Python 3.9.6 64-bit (system)",
   "language": "python",
   "name": "python3"
  },
  "language_info": {
   "name": "python",
   "version": "3.9.6"
  },
  "orig_nbformat": 4,
  "vscode": {
   "interpreter": {
    "hash": "9328617b9c049cff9885a4b7e22961834e9f6ad8c88531b9bf3317cbbbab93d2"
   }
  }
 },
 "nbformat": 4,
 "nbformat_minor": 2
}
